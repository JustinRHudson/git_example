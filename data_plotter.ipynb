{
 "cells": [
  {
   "cell_type": "code",
   "execution_count": null,
   "id": "9806db96",
   "metadata": {},
   "outputs": [],
   "source": [
    "import matplotlib\n",
    "import matplotlib.pyplot as plt\n",
    "import matplotlib.animation as ani\n",
    "import numpy as np\n",
    "from IPython.display import HTML\n",
    "\n",
    "#makes the animation work\n",
    "matplotlib.rcParams['animation.embed_limit'] = 2**128\n"
   ]
  },
  {
   "cell_type": "code",
   "execution_count": 16,
   "id": "1bf27d09",
   "metadata": {},
   "outputs": [],
   "source": [
    "#load in the data from the example file\n",
    "data_vector = np.loadtxt('data.csv',delimiter = ',')\n",
    "#set the number of frames\n",
    "num_frames = data_vector.shape[0]"
   ]
  },
  {
   "cell_type": "code",
   "execution_count": null,
   "id": "7b1e3f8a",
   "metadata": {},
   "outputs": [],
   "source": [
    "%matplotlib inline\n",
    "\n",
    "#set darkmode background\n",
    "plt.style.use('dark_background')\n",
    "#make a plot of the data\n",
    "fig,ax = plt.subplots(1,1,figsize = (12,8),frameon=False)\n",
    "fig.patch.set_visible(False)\n",
    "\n",
    "def plot_function(max_i:int) -> None:\n",
    "\n",
    "    #load a colormap for the line colors\n",
    "    cm = plt.cm.hsv\n",
    "    #make the plot\n",
    "    for i in range(max_i+1):\n",
    "        ax.plot(np.linspace(0,6*np.pi,data_vector.shape[1]),data_vector[i,:],color = cm([np.abs(i-int(num_frames/2))/int(num_frames/2)]))\n",
    "        ax.set_xticks([])\n",
    "        ax.set_yticks([])\n",
    "        ax.set_xlim(0+((i/num_frames)*4*np.pi),((i/num_frames)*4*np.pi)+2*np.pi)\n",
    "        ax.set_ylim(-1.05,1.05)\n",
    "        ax.get_xaxis().set_visible(False)\n",
    "        ax.get_yaxis().set_visible(False)\n",
    "\n",
    "#animate the plot in the notebook\n",
    "animation = ani.FuncAnimation(fig,plot_function,frames = num_frames)\n",
    "\n",
    "HTML(animation.to_jshtml())"
   ]
  },
  {
   "cell_type": "code",
   "execution_count": null,
   "id": "6926065d",
   "metadata": {},
   "outputs": [],
   "source": [
    "\n",
    "\n"
   ]
  }
 ],
 "metadata": {
  "kernelspec": {
   "display_name": "lcs_env",
   "language": "python",
   "name": "python3"
  },
  "language_info": {
   "codemirror_mode": {
    "name": "ipython",
    "version": 3
   },
   "file_extension": ".py",
   "mimetype": "text/x-python",
   "name": "python",
   "nbconvert_exporter": "python",
   "pygments_lexer": "ipython3",
   "version": "3.13.7"
  }
 },
 "nbformat": 4,
 "nbformat_minor": 5
}
