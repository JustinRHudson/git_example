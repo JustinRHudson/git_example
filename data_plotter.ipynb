{
 "cells": [
  {
   "cell_type": "code",
   "execution_count": 1,
   "id": "9806db96",
   "metadata": {},
   "outputs": [],
   "source": [
    "import matplotlib\n",
    "import matplotlib.pyplot as plt\n",
    "import matplotlib.animation as ani\n",
    "import numpy as np\n",
    "from IPython.display import HTML\n",
    "\n",
    "#makes the animation work\n",
    "matplotlib.rcParams['animation.embed_limit'] = 2**128"
   ]
  },
  {
   "cell_type": "code",
   "execution_count": null,
   "id": "1bf27d09",
   "metadata": {},
   "outputs": [],
   "source": [
    "#load in the data from the example file\n",
    "data_vector = np.loadtxt('data.csv',delimiter = ',')"
   ]
  },
  {
   "cell_type": "code",
   "execution_count": null,
   "id": "7b1e3f8a",
   "metadata": {},
   "outputs": [],
   "source": [
    "%matplotlib inline\n",
    "\n",
    "#set darkmode background\n",
    "plt.style.use('dark_background')\n",
    "#make a plot of the data\n",
    "fig = plt.figure(figsize = (12,8))\n",
    "\n",
    "def plot_function(max_i:int) -> None:\n",
    "    #load a colormap for the line colors\n",
    "    cm = plt.cm.hsv\n",
    "    #make the plot\n",
    "    for i in range(max_i+1):\n",
    "        plt.plot(data_vector[i,:],color = cm([i/100]))\n",
    "        plt.xticks([])\n",
    "        plt.yticks([])\n",
    "\n",
    "#animate the plot in the notebook\n",
    "animation = ani.FuncAnimation(fig,plot_function,frames = 100)\n",
    "\n",
    "HTML(animation.to_jshtml())"
   ]
  },
  {
   "cell_type": "code",
   "execution_count": null,
   "id": "6926065d",
   "metadata": {},
   "outputs": [],
   "source": [
    "\n",
    "\n"
   ]
  }
 ],
 "metadata": {
  "kernelspec": {
   "display_name": "lcs_env",
   "language": "python",
   "name": "python3"
  },
  "language_info": {
   "codemirror_mode": {
    "name": "ipython",
    "version": 3
   },
   "file_extension": ".py",
   "mimetype": "text/x-python",
   "name": "python",
   "nbconvert_exporter": "python",
   "pygments_lexer": "ipython3",
   "version": "3.13.7"
  }
 },
 "nbformat": 4,
 "nbformat_minor": 5
}
